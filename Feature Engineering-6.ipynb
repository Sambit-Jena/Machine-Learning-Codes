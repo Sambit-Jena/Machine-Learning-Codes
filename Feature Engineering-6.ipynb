{
 "cells": [
  {
   "cell_type": "markdown",
   "id": "e94a4918-b836-4a4c-93e4-3013409e5b7e",
   "metadata": {},
   "source": [
    "## Q1. Pearson correlation coefficient is a measure of the linear relationship between two variables. Suppose you have collected data on the amount of time students spend studying for an exam and their final exam scores. Calculate the Pearson correlation coefficient between these two variables and interpret the result."
   ]
  },
  {
   "cell_type": "code",
   "execution_count": 4,
   "id": "33f4a4cb-5c38-477a-a879-b354c0964d82",
   "metadata": {},
   "outputs": [
    {
     "name": "stdout",
     "output_type": "stream",
     "text": [
      "Pearson Correlation Coefficient: 1.00\n",
      "Interpretation: There is a positive linear relationship.\n",
      "Significance: The correlation is statistically significant.\n"
     ]
    }
   ],
   "source": [
    "import scipy.stats\n",
    "\n",
    "#let's take some random example\n",
    "study_time = [10, 15, 20, 25, 30, 35, 40]\n",
    "exam_scores = [65, 70, 75, 80, 85, 90, 95]\n",
    "\n",
    "# Calculate the Pearson correlation coefficient and p-value\n",
    "correlation_coefficient, p_value = scipy.stats.pearsonr(study_time, exam_scores)\n",
    "\n",
    "if correlation_coefficient > 0:\n",
    "    interpretation = \"There is a positive linear relationship.\"\n",
    "elif correlation_coefficient < 0:\n",
    "    interpretation = \"There is a negative linear relationship.\"\n",
    "else:\n",
    "    interpretation = \"There is little to no linear relationship.\"\n",
    "\n",
    "if p_value < 0.05:\n",
    "    significance = \"The correlation is statistically significant.\"\n",
    "else:\n",
    "    significance = \"The correlation is not statistically significant.\"\n",
    "\n",
    "print(f\"Pearson Correlation Coefficient: {correlation_coefficient:.2f}\")\n",
    "print(f\"Interpretation: {interpretation}\")\n",
    "print(f\"Significance: {significance}\")\n"
   ]
  },
  {
   "cell_type": "markdown",
   "id": "5ebb33b7-05ff-4b4e-bdf2-c26ae8b5c777",
   "metadata": {},
   "source": [
    "## Q2. Spearman's rank correlation is a measure of the monotonic relationship between two variables. Suppose you have collected data on the amount of sleep individuals get each night and their overall job satisfaction level on a scale of 1 to 10. Calculate the Spearman's rank correlation between these two variables and interpret the result."
   ]
  },
  {
   "cell_type": "code",
   "execution_count": 5,
   "id": "ae9fb234-dd02-4b6a-bd79-6186f18100f1",
   "metadata": {},
   "outputs": [
    {
     "name": "stdout",
     "output_type": "stream",
     "text": [
      "Spearman's Rank Correlation Coefficient: 0.95\n",
      "Interpretation: There is a positive monotonic relationship.\n",
      "Significance: The correlation is statistically significant.\n"
     ]
    }
   ],
   "source": [
    "import scipy.stats\n",
    "amount_of_sleep = [7, 6, 5, 8, 7, 6, 8, 5, 6, 7]\n",
    "job_satisfaction = [8, 6, 5, 9, 7, 5, 8, 4, 6, 7]\n",
    "\n",
    "correlation_coefficient, p_value = scipy.stats.spearmanr(amount_of_sleep, job_satisfaction)\n",
    "\n",
    "if correlation_coefficient > 0:\n",
    "    interpretation = \"There is a positive monotonic relationship.\"\n",
    "elif correlation_coefficient < 0:\n",
    "    interpretation = \"There is a negative monotonic relationship.\"\n",
    "else:\n",
    "    interpretation = \"There is little to no monotonic relationship.\"\n",
    "\n",
    "if p_value < 0.05:\n",
    "    significance = \"The correlation is statistically significant.\"\n",
    "else:\n",
    "    significance = \"The correlation is not statistically significant.\"\n",
    "\n",
    "print(f\"Spearman's Rank Correlation Coefficient: {correlation_coefficient:.2f}\")\n",
    "print(f\"Interpretation: {interpretation}\")\n",
    "print(f\"Significance: {significance}\")\n"
   ]
  },
  {
   "cell_type": "markdown",
   "id": "2d4cbdcf-1a1f-41fd-8c60-6eeb25550cab",
   "metadata": {},
   "source": [
    "## Q3. Suppose you are conducting a study to examine the relationship between the number of hours of exercise per week and body mass index (BMI) in a sample of adults. You collected data on both variables for 50 participants. Calculate the Pearson correlation coefficient and the Spearman's rank correlation between these two variables and compare the results."
   ]
  },
  {
   "cell_type": "code",
   "execution_count": 9,
   "id": "bfc2ca4d-f97a-431c-a90c-aac49c656f40",
   "metadata": {},
   "outputs": [
    {
     "name": "stdout",
     "output_type": "stream",
     "text": [
      "Pearson Correlation Results:\n",
      "Pearson Correlation Coefficient: -0.22\n",
      "Interpretation: There is a negative linear relationship (Pearson).\n",
      "Significance: The Pearson correlation is not statistically significant.\n",
      "\n",
      "Spearman's Rank Correlation Results:\n",
      "Spearman's Rank Correlation Coefficient: -0.23\n",
      "Interpretation: There is a negative monotonic relationship (Spearman).\n",
      "Significance: The Spearman correlation is not statistically significant.\n"
     ]
    }
   ],
   "source": [
    "import scipy.stats\n",
    "\n",
    "# some random data\n",
    "hours_of_exercise = [3, 4, 5, 2, 6, 3, 4, 5, 2, 3, 4, 5, 2, 6, 3, 4, 5, 2, 3, 4]\n",
    "bmi = [25.1, 28.2, 23.5, 30.0, 27.8, 29.6, 26.7, 31.2, 24.9, 28.5, 25.0, 29.8, 30.5, 27.0, 25.7, 28.3, 23.9, 31.8, 26.4, 29.0]\n",
    "\n",
    "pearson_coefficient, pearson_p_value = scipy.stats.pearsonr(hours_of_exercise, bmi)\n",
    "spearman_coefficient, spearman_p_value = scipy.stats.spearmanr(hours_of_exercise, bmi)\n",
    "\n",
    "if pearson_coefficient > 0:\n",
    "    pearson_interpretation = \"There is a positive linear relationship (Pearson).\"\n",
    "elif pearson_coefficient < 0:\n",
    "    pearson_interpretation = \"There is a negative linear relationship (Pearson).\"\n",
    "else:\n",
    "    pearson_interpretation = \"There is little to no linear relationship (Pearson).\"\n",
    "\n",
    "if pearson_p_value < 0.05:\n",
    "    pearson_significance = \"The Pearson correlation is statistically significant.\"\n",
    "else:\n",
    "    pearson_significance = \"The Pearson correlation is not statistically significant.\"\n",
    "\n",
    "if spearman_coefficient > 0:\n",
    "    spearman_interpretation = \"There is a positive monotonic relationship (Spearman).\"\n",
    "elif spearman_coefficient < 0:\n",
    "    spearman_interpretation = \"There is a negative monotonic relationship (Spearman).\"\n",
    "else:\n",
    "    spearman_interpretation = \"There is little to no monotonic relationship (Spearman).\"\n",
    "\n",
    "if spearman_p_value < 0.05:\n",
    "    spearman_significance = \"The Spearman correlation is statistically significant.\"\n",
    "else:\n",
    "    spearman_significance = \"The Spearman correlation is not statistically significant.\"\n",
    "\n",
    "print(\"Pearson Correlation Results:\")\n",
    "print(f\"Pearson Correlation Coefficient: {pearson_coefficient:.2f}\")\n",
    "print(f\"Interpretation: {pearson_interpretation}\")\n",
    "print(f\"Significance: {pearson_significance}\")\n",
    "\n",
    "print(\"\\nSpearman's Rank Correlation Results:\")\n",
    "print(f\"Spearman's Rank Correlation Coefficient: {spearman_coefficient:.2f}\")\n",
    "print(f\"Interpretation: {spearman_interpretation}\")\n",
    "print(f\"Significance: {spearman_significance}\")\n"
   ]
  },
  {
   "cell_type": "markdown",
   "id": "096aaaa5-a25d-41e1-8b28-902eabee3733",
   "metadata": {},
   "source": [
    "## Q4. A researcher is interested in examining the relationship between the number of hours individuals spend watching television per day and their level of physical activity. The researcher collected data on both variables from a sample of 50 participants. Calculate the Pearson correlation coefficient between these two variables."
   ]
  },
  {
   "cell_type": "code",
   "execution_count": 11,
   "id": "34349cdd-8895-46f3-bc2a-ad057e5b591b",
   "metadata": {},
   "outputs": [
    {
     "name": "stdout",
     "output_type": "stream",
     "text": [
      "Pearson Correlation Coefficient: -0.67\n",
      "Interpretation: There is a negative linear relationship.\n",
      "Significance: The correlation is statistically significant.\n"
     ]
    }
   ],
   "source": [
    "import scipy.stats\n",
    "\n",
    "tv_hours = [2.5, 3.0, 4.5, 2.0, 5.0, 2.5, 3.5, 2.0, 4.0, 2.0, 3.0, 2.5, 4.5, 3.0, 2.0, 3.0, 2.5, 4.0, 2.5, 3.0, 2.5, 4.0, 2.5]\n",
    "physical_activity = [45, 60, 30, 75, 20, 50, 40, 80, 35, 70, 55, 65, 25, 70, 60, 50, 35, 75, 45, 60, 50, 40, 55]\n",
    "\n",
    "pearson_coefficient, pearson_p_value = scipy.stats.pearsonr(tv_hours, physical_activity)\n",
    "\n",
    "if pearson_coefficient > 0:\n",
    "    interpretation = \"There is a positive linear relationship.\"\n",
    "elif pearson_coefficient < 0:\n",
    "    interpretation = \"There is a negative linear relationship.\"\n",
    "else:\n",
    "    interpretation = \"There is little to no linear relationship.\"\n",
    "\n",
    "if pearson_p_value < 0.05:\n",
    "    significance = \"The correlation is statistically significant.\"\n",
    "else:\n",
    "    significance = \"The correlation is not statistically significant.\"\n",
    "\n",
    "print(f\"Pearson Correlation Coefficient: {pearson_coefficient:.2f}\")\n",
    "print(f\"Interpretation: {interpretation}\")\n",
    "print(f\"Significance: {significance}\")"
   ]
  },
  {
   "cell_type": "markdown",
   "id": "598b1c93-725b-4c56-b56b-3a022fbe5c71",
   "metadata": {},
   "source": [
    " ## Q5. A survey was conducted to examine the relationship between age and preference for a particular brand of soft drink. The survey results are shown below:"
   ]
  },
  {
   "cell_type": "code",
   "execution_count": 12,
   "id": "a9c2ed0e-8038-4941-a837-731b7d38616a",
   "metadata": {},
   "outputs": [
    {
     "name": "stdout",
     "output_type": "stream",
     "text": [
      "                       count  mean       std\n",
      "Soft Drink Preference                       \n",
      "Coke                       3  24.0  4.582576\n",
      "Mountain Dew               1  37.0       NaN\n",
      "Pepsi                      2  36.5  7.778175\n"
     ]
    }
   ],
   "source": [
    "import numpy as np\n",
    "import pandas as pd\n",
    "\n",
    "data = {\n",
    "    'Age (Years)': [25, 42, 37, 19, 31, 28],\n",
    "    'Soft Drink Preference': ['Coke', 'Pepsi', 'Mountain Dew', 'Coke', 'Pepsi', 'Coke']\n",
    "}\n",
    "\n",
    "df = pd.DataFrame(data)\n",
    "grouped = df.groupby('Soft Drink Preference')['Age (Years)'].agg(['count', 'mean', 'std'])\n",
    "print(grouped)\n"
   ]
  },
  {
   "cell_type": "markdown",
   "id": "48f3389f-9b84-41cd-ad93-8a21ca0dc5a9",
   "metadata": {},
   "source": [
    "## Q6. A company is interested in examining the relationship between the number of sales calls made per day and the number of sales made per week. The company collected data on both variables from a sample of 30 sales representatives. Calculate the Pearson correlation coefficient between these two variables."
   ]
  },
  {
   "cell_type": "code",
   "execution_count": 13,
   "id": "e504bdae-7307-4d82-b194-1233b43ee97a",
   "metadata": {},
   "outputs": [
    {
     "name": "stdout",
     "output_type": "stream",
     "text": [
      "Pearson Correlation Coefficient: 0.98\n",
      "Interpretation: There is a positive linear relationship.\n",
      "Significance: The correlation is statistically significant.\n"
     ]
    }
   ],
   "source": [
    "import scipy.stats\n",
    "\n",
    "sales_calls_per_day = [20, 25, 18, 22, 30, 15, 27, 21, 28, 17, 19, 24, 26, 23, 16, 29, 31, 14, 20, 25, 18, 22, 30, 15, 27, 21, 28, 17, 19, 24]\n",
    "sales_per_week = [120, 145, 100, 130, 160, 90, 150, 125, 155, 95, 105, 140, 150, 135, 92, 158, 162, 88, 121, 147, 101, 129, 159, 91, 151, 123, 153, 93, 107, 138]\n",
    "\n",
    "pearson_coefficient, pearson_p_value = scipy.stats.pearsonr(sales_calls_per_day, sales_per_week)\n",
    "\n",
    "if pearson_coefficient > 0:\n",
    "    interpretation = \"There is a positive linear relationship.\"\n",
    "elif pearson_coefficient < 0:\n",
    "    interpretation = \"There is a negative linear relationship.\"\n",
    "else:\n",
    "    interpretation = \"There is little to no linear relationship.\"\n",
    "\n",
    "if pearson_p_value < 0.05:\n",
    "    significance = \"The correlation is statistically significant.\"\n",
    "else:\n",
    "    significance = \"The correlation is not statistically significant.\"\n",
    "\n",
    "print(f\"Pearson Correlation Coefficient: {pearson_coefficient:.2f}\")\n",
    "print(f\"Interpretation: {interpretation}\")\n",
    "print(f\"Significance: {significance}\")"
   ]
  }
 ],
 "metadata": {
  "kernelspec": {
   "display_name": "Python 3 (ipykernel)",
   "language": "python",
   "name": "python3"
  },
  "language_info": {
   "codemirror_mode": {
    "name": "ipython",
    "version": 3
   },
   "file_extension": ".py",
   "mimetype": "text/x-python",
   "name": "python",
   "nbconvert_exporter": "python",
   "pygments_lexer": "ipython3",
   "version": "3.10.8"
  }
 },
 "nbformat": 4,
 "nbformat_minor": 5
}
