{
 "cells": [
  {
   "cell_type": "markdown",
   "id": "d687c142-de5d-4e0f-8bb4-c71db3fa5448",
   "metadata": {},
   "source": [
    "## Q1. What is Bayes' theorem?"
   ]
  },
  {
   "cell_type": "markdown",
   "id": "19650e01-bbb6-49b6-9b31-b2a7378380fd",
   "metadata": {},
   "source": [
    "Bayes' theorem is a mathematical formula that describes the probability of an event based on prior knowledge of the conditions that might be relevant to the event. It is used to calculate the probability of a hypothesis given the available evidence. The theorem is named after Thomas Bayes.\n",
    "\n",
    "The formula for Bayes' theorem is as follows:\n",
    "\n",
    "\\\\(P(A|B) = \\\\frac{P(B|A)P(A)}{P(B)}\\\\)\n",
    "\n",
    "where P(A|B) is the probability of A given B, P(B|A) is the probability of B given A, P(A) is the prior probability of A, and P(B) is the prior probability of B.\n",
    "\n",
    "Bayes' theorem is widely used in fields such as statistics, machine learning, and artificial intelligence. It has many applications, including spam filtering, medical diagnosis, and image recognition."
   ]
  },
  {
   "cell_type": "markdown",
   "id": "3f2a662a-fbce-4e47-9615-d1a545dc6f56",
   "metadata": {},
   "source": [
    "## Q2. What is the formula for Bayes' theorem?"
   ]
  },
  {
   "cell_type": "markdown",
   "id": "452d7c1f-a73b-476a-8f47-bf3649dfd1c7",
   "metadata": {},
   "source": [
    "The formula for Bayes' theorem is as follows:\n",
    "\n",
    "\\\\(P(A|B) = \\\\frac{P(B|A)P(A)}{P(B)}\\\\)\n",
    "\n",
    "where P(A|B) is the probability of A given B, P(B|A) is the probability of B given A, P(A) is the prior probability of A, and P(B) is the prior probability of B.\n",
    "\n",
    "Bayes' theorem is widely used in fields such as statistics, machine learning, and artificial intelligence. It has many applications, including spam filtering, medical diagnosis, and image recognition."
   ]
  },
  {
   "cell_type": "markdown",
   "id": "9e368305-5200-41e4-9efe-b8b18dc7949c",
   "metadata": {},
   "source": [
    "## Q3. How is Bayes' theorem used in practice?"
   ]
  },
  {
   "cell_type": "markdown",
   "id": "0ad51f6a-2b3c-4d02-8846-3a56c676f1b0",
   "metadata": {},
   "source": [
    "Bayes' theorem is used in a wide range of fields, including statistics, machine learning, and artificial intelligence. Here are some examples of its applications:\n",
    "\n",
    "- **Spam filtering**: Bayes' theorem is used to classify emails as spam or not spam based on the content of the email.\n",
    "- **Medical diagnosis**: Bayes' theorem is used to calculate the probability of a patient having a particular disease based on their symptoms and other relevant factors.\n",
    "- **Image recognition**: Bayes' theorem is used to classify images into different categories based on their features.\n",
    "- **Document classification**: Bayes' theorem is used to classify documents into different categories based on their content.\n",
    "- **Weather forecasting**: Bayes' theorem is used to predict the probability of different weather conditions based on past weather data.\n",
    "- **Stock market analysis**: Bayes' theorem is used to predict the probability of a stock's price going up or down based on past stock prices and other relevant factors.\n",
    "\n",
    "These are just a few examples of how Bayes' theorem is used in practice. Its applications are diverse and far-reaching."
   ]
  },
  {
   "cell_type": "markdown",
   "id": "8c53d634-2a22-4c0b-83e5-cdc3c37f8f20",
   "metadata": {},
   "source": [
    "## Q4. What is the relationship between Bayes' theorem and conditional probability?"
   ]
  },
  {
   "cell_type": "markdown",
   "id": "f7c97a9f-0936-4416-8f40-ae8a2bd7259e",
   "metadata": {},
   "source": [
    "Bayes' theorem is a mathematical formula that describes the probability of an event based on prior knowledge of the conditions that might be relevant to the event   . It is used to calculate the probability of a hypothesis given the available evidence. The theorem is named after Thomas Bayes, an 18th-century statistician and Presbyterian minister who first formulated it .\n",
    "\n",
    "Bayes' theorem is based on **conditional probability**. Conditional probability is the probability of an event occurring given that another event has already occurred . Bayes' theorem uses conditional probability to calculate the probability of a hypothesis given the available evidence   .\n",
    "\n",
    "The formula for Bayes' theorem is as follows:\n",
    "\n",
    "\\\\(P(A|B) = \\\\frac{P(B|A)P(A)}{P(B)}\\\\)\n",
    "\n",
    "where P(A|B) is the probability of A given B, P(B|A) is the probability of B given A, P(A) is the prior probability of A, and P(B) is the prior probability of B."
   ]
  },
  {
   "cell_type": "markdown",
   "id": "e6b164cc-d5e1-42f4-8fdd-4e5484d10ff0",
   "metadata": {},
   "source": [
    "## Q5. How do you choose which type of Naive Bayes classifier to use for any given problem?"
   ]
  },
  {
   "cell_type": "markdown",
   "id": "8b5c331f-88bb-43af-a0bd-126933829f3f",
   "metadata": {},
   "source": [
    "There are three main types of Naive Bayes classifiers: **Gaussian Naive Bayes**, **Multinomial Naive Bayes**, and **Bernoulli Naive Bayes** ¹². The choice of which type of Naive Bayes classifier to use depends on the nature of the data and the problem at hand.\n",
    "\n",
    "- **Gaussian Naive Bayes**: This classifier is used when the features are continuous and follow a Gaussian distribution. It is commonly used in natural language processing (NLP) tasks such as text classification.\n",
    "\n",
    "- **Multinomial Naive Bayes**: This classifier is used when the features are discrete and represent the frequency of occurrence of certain events. It is commonly used in NLP tasks such as spam filtering and sentiment analysis.\n",
    "\n",
    "- **Bernoulli Naive Bayes**: This classifier is used when the features are binary and represent the presence or absence of certain events. It is commonly used in NLP tasks such as text classification.\n",
    "\n",
    "The choice of which type of Naive Bayes classifier to use depends on the nature of the data and the problem at hand. In general, Gaussian Naive Bayes is used for continuous data, Multinomial Naive Bayes is used for discrete data, and Bernoulli Naive Bayes is used for binary data. However, the choice of classifier also depends on the specific problem and the performance of the classifier on the given data."
   ]
  },
  {
   "cell_type": "markdown",
   "id": "9976af8e-5d34-4318-809c-e8ab7d5616ac",
   "metadata": {},
   "source": [
    "## Q6. Assignment:"
   ]
  },
  {
   "cell_type": "code",
   "execution_count": 14,
   "id": "4539aac9-a143-4431-9386-47b1b1d3122b",
   "metadata": {},
   "outputs": [],
   "source": [
    "# Data preparation\n",
    "data = {\n",
    "    \"A\": {\"X1\": [3, 3, 4], \"X2\": [4, 3, 3, 3]},\n",
    "    \"B\": {\"X1\": [2, 2, 1], \"X2\": [2, 2, 2, 3]}\n",
    "}\n",
    "\n",
    "# Calculate the likelihoods\n",
    "likelihoods = {}\n",
    "for cls in data:\n",
    "    likelihoods[cls] = {}\n",
    "    for feature in data[cls]:\n",
    "        for value in set(data[cls][feature]):\n",
    "            likelihoods[cls][(feature, value)] = data[cls][feature].count(value) / len(data[cls][feature])"
   ]
  },
  {
   "cell_type": "code",
   "execution_count": 15,
   "id": "5809b370-504b-4954-826e-9bd18c8cec02",
   "metadata": {},
   "outputs": [],
   "source": [
    "# Assuming equal prior probabilities for each class\n",
    "prior_prob = 1 / len(data)\n",
    "\n",
    "# New instance features\n",
    "new_instance = {\"X1\": 3, \"X2\": 4}\n",
    "\n",
    "# Calculate the posterior probabilities\n",
    "posterior_probs = {}\n",
    "for cls in data:\n",
    "    posterior_probs[cls] = prior_prob\n",
    "    for feature, value in new_instance.items():\n",
    "        if (feature, value) in likelihoods[cls]:\n",
    "            posterior_probs[cls] *= likelihoods[cls][(feature, value)]"
   ]
  },
  {
   "cell_type": "code",
   "execution_count": 16,
   "id": "501767f5-0dbf-4ca1-95bf-2dfdd1e57edd",
   "metadata": {},
   "outputs": [
    {
     "name": "stdout",
     "output_type": "stream",
     "text": [
      "Predicted class: B\n"
     ]
    }
   ],
   "source": [
    "# Predict the class with the highest probability\n",
    "predicted_class = max(posterior_probs, key=posterior_probs.get)\n",
    "\n",
    "print(\"Predicted class:\", predicted_class)"
   ]
  }
 ],
 "metadata": {
  "kernelspec": {
   "display_name": "Python 3 (ipykernel)",
   "language": "python",
   "name": "python3"
  },
  "language_info": {
   "codemirror_mode": {
    "name": "ipython",
    "version": 3
   },
   "file_extension": ".py",
   "mimetype": "text/x-python",
   "name": "python",
   "nbconvert_exporter": "python",
   "pygments_lexer": "ipython3",
   "version": "3.10.8"
  }
 },
 "nbformat": 4,
 "nbformat_minor": 5
}
