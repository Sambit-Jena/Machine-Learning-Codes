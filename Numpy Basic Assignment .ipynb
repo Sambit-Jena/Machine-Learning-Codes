{
 "cells": [
  {
   "cell_type": "markdown",
   "id": "56c6a23a-460c-468a-ada4-a67712877e1c",
   "metadata": {},
   "source": [
    "## Q1. Is there any difference in the data type of variables list_ and array_list? If there is then write a code to print the data types of both the variables."
   ]
  },
  {
   "cell_type": "markdown",
   "id": "2763137e-f4de-47b6-9597-cb1eca6a4383",
   "metadata": {},
   "source": [
    "Basically in  Python, the variable types list and array_list are not same at all. The built-in data type is list, which represents an ordered collection of items. However, array_list could be a custom variable name, so without further information, we cannot determine its exact data type."
   ]
  },
  {
   "cell_type": "code",
   "execution_count": 1,
   "id": "17e43a88-9c32-4090-9173-4199a39cfc51",
   "metadata": {},
   "outputs": [],
   "source": [
    "import numpy as np\n",
    "list_ = [ '1' , '2' , '3' , '4' , '5' ]\n",
    "array_list = np.array(object = list_)"
   ]
  },
  {
   "cell_type": "code",
   "execution_count": 2,
   "id": "44dcaab8-0501-426b-a065-1da78938dd12",
   "metadata": {},
   "outputs": [
    {
     "data": {
      "text/plain": [
       "list"
      ]
     },
     "execution_count": 2,
     "metadata": {},
     "output_type": "execute_result"
    }
   ],
   "source": [
    "type(list_)"
   ]
  },
  {
   "cell_type": "code",
   "execution_count": 3,
   "id": "bea1706c-46e0-402e-801c-7fd2168084b3",
   "metadata": {},
   "outputs": [
    {
     "data": {
      "text/plain": [
       "numpy.ndarray"
      ]
     },
     "execution_count": 3,
     "metadata": {},
     "output_type": "execute_result"
    }
   ],
   "source": [
    "type(array_list)"
   ]
  },
  {
   "cell_type": "markdown",
   "id": "313986f3-069f-4f49-85a4-a771a2468b5a",
   "metadata": {},
   "source": [
    "## Q2. Write a code to print the data type of each and every element of both the variables list_ and arra_list."
   ]
  },
  {
   "cell_type": "code",
   "execution_count": 4,
   "id": "d4fa0c61-5c51-4706-85ee-02d957f0e0b9",
   "metadata": {},
   "outputs": [
    {
     "name": "stdout",
     "output_type": "stream",
     "text": [
      "The DataType is:  <class 'str'>\n",
      "The DataType is:  <class 'str'>\n",
      "The DataType is:  <class 'str'>\n",
      "The DataType is:  <class 'str'>\n",
      "The DataType is:  <class 'str'>\n"
     ]
    }
   ],
   "source": [
    "for i in list_:\n",
    "    print(\"The DataType is: \",type(i))"
   ]
  },
  {
   "cell_type": "code",
   "execution_count": 5,
   "id": "1e478f68-6ba3-471a-b9ee-d0d569b58827",
   "metadata": {},
   "outputs": [
    {
     "name": "stdout",
     "output_type": "stream",
     "text": [
      "The DataType is:  <class 'numpy.str_'>\n",
      "The DataType is:  <class 'numpy.str_'>\n",
      "The DataType is:  <class 'numpy.str_'>\n",
      "The DataType is:  <class 'numpy.str_'>\n",
      "The DataType is:  <class 'numpy.str_'>\n"
     ]
    }
   ],
   "source": [
    "for j in array_list:\n",
    "    print(\"The DataType is: \",type(j))"
   ]
  },
  {
   "cell_type": "markdown",
   "id": "6d569b01-259c-451a-9f1d-09ec57afba3e",
   "metadata": {},
   "source": [
    "## Q3. Considering the following changes in the variable, array_list: \n",
    "\n",
    "## array_list = np.array(object = list_, dtype = int) \n",
    "\n",
    "## Will there be any difference in the data type of the elements present in both the variables, list_ and arra_list? If so then print the data types of each and every element present in both the variables, list_ and array_list."
   ]
  },
  {
   "cell_type": "code",
   "execution_count": 6,
   "id": "a8985515-c538-4515-8f0a-e967ae572193",
   "metadata": {},
   "outputs": [],
   "source": [
    "array_list = np.array(object = list_, dtype = int)"
   ]
  },
  {
   "cell_type": "markdown",
   "id": "358de881-04e6-4fa5-b126-cd918e8b8c58",
   "metadata": {},
   "source": [
    "Yes when we write the above code we must find the changes in the datatype for the array_list variable nbut the datatype of list_ might same as before."
   ]
  },
  {
   "cell_type": "code",
   "execution_count": 7,
   "id": "25f7ac5e-1cac-4bf7-ab86-ef80c13c15be",
   "metadata": {},
   "outputs": [
    {
     "name": "stdout",
     "output_type": "stream",
     "text": [
      "The DataType is:  <class 'str'>\n",
      "The DataType is:  <class 'str'>\n",
      "The DataType is:  <class 'str'>\n",
      "The DataType is:  <class 'str'>\n",
      "The DataType is:  <class 'str'>\n"
     ]
    }
   ],
   "source": [
    "for i in list_:\n",
    "    print(\"The DataType is: \",type(i))   # here we get the datatype is same (string) as before"
   ]
  },
  {
   "cell_type": "code",
   "execution_count": 8,
   "id": "cd6bb688-a119-4df5-a425-ef8a5568e3e3",
   "metadata": {},
   "outputs": [
    {
     "name": "stdout",
     "output_type": "stream",
     "text": [
      "The DataType is:  <class 'numpy.int64'>\n",
      "The DataType is:  <class 'numpy.int64'>\n",
      "The DataType is:  <class 'numpy.int64'>\n",
      "The DataType is:  <class 'numpy.int64'>\n",
      "The DataType is:  <class 'numpy.int64'>\n"
     ]
    }
   ],
   "source": [
    "for j in array_list:\n",
    "    print(\"The DataType is: \",type(j))   # But here we can get the different datatype which is integer"
   ]
  },
  {
   "cell_type": "markdown",
   "id": "9505e5be-fa5a-4b63-83ec-d57cb9091353",
   "metadata": {},
   "source": [
    "## Q4. Write a code to find the following characteristics of variable, num_array:\n",
    "## (i) shape\n",
    "## (ii) size"
   ]
  },
  {
   "cell_type": "code",
   "execution_count": 9,
   "id": "3f4933a8-f2e6-437a-b906-166d4fd795f3",
   "metadata": {},
   "outputs": [],
   "source": [
    "import numpy as np\n",
    "num_list = [ [ 1 , 2 , 3 ] , [ 4 , 5 , 6 ] ]\n",
    "num_array = np.array(object = num_list)"
   ]
  },
  {
   "cell_type": "code",
   "execution_count": 10,
   "id": "d1641038-63e4-4c26-bfb7-5601dc172ace",
   "metadata": {},
   "outputs": [
    {
     "data": {
      "text/plain": [
       "array([[1, 2, 3],\n",
       "       [4, 5, 6]])"
      ]
     },
     "execution_count": 10,
     "metadata": {},
     "output_type": "execute_result"
    }
   ],
   "source": [
    "num_array"
   ]
  },
  {
   "cell_type": "code",
   "execution_count": 11,
   "id": "b6abeae1-20c7-4d43-ad59-cbca305542e4",
   "metadata": {},
   "outputs": [
    {
     "data": {
      "text/plain": [
       "(2, 3)"
      ]
     },
     "execution_count": 11,
     "metadata": {},
     "output_type": "execute_result"
    }
   ],
   "source": [
    "np.shape(num_array)  #Finding the shape of num_array"
   ]
  },
  {
   "cell_type": "code",
   "execution_count": 12,
   "id": "43195172-220e-44da-b7a3-afc4b3d5d5a9",
   "metadata": {},
   "outputs": [
    {
     "data": {
      "text/plain": [
       "6"
      ]
     },
     "execution_count": 12,
     "metadata": {},
     "output_type": "execute_result"
    }
   ],
   "source": [
    "num_array.size  #Finding the size of num_array"
   ]
  },
  {
   "cell_type": "markdown",
   "id": "19668667-c522-405e-9131-31615cf8b75d",
   "metadata": {},
   "source": [
    "## Q5. Write a code to create numpy array of 3*3 matrix containing zeros only, using a numpy array creation function."
   ]
  },
  {
   "cell_type": "code",
   "execution_count": 13,
   "id": "3de81189-be37-4bf3-8a59-92a9d7936532",
   "metadata": {},
   "outputs": [
    {
     "data": {
      "text/plain": [
       "array([[0., 0., 0.],\n",
       "       [0., 0., 0.],\n",
       "       [0., 0., 0.]])"
      ]
     },
     "execution_count": 13,
     "metadata": {},
     "output_type": "execute_result"
    }
   ],
   "source": [
    "import numpy as np\n",
    "\n",
    "# Creating a 3x3 matrix of zeros\n",
    "zeros_matrix= np.zeros((3, 3))\n",
    "zeros_matrix"
   ]
  },
  {
   "cell_type": "markdown",
   "id": "441b3599-109b-406c-9a95-e5db45902fbd",
   "metadata": {},
   "source": [
    "## Q6. Create an identity matrix of shape (5,5) using numpy functions?"
   ]
  },
  {
   "cell_type": "code",
   "execution_count": 14,
   "id": "b646e249-2b2f-4100-93ed-278faee116b0",
   "metadata": {},
   "outputs": [
    {
     "data": {
      "text/plain": [
       "array([[1., 0., 0., 0., 0.],\n",
       "       [0., 1., 0., 0., 0.],\n",
       "       [0., 0., 1., 0., 0.],\n",
       "       [0., 0., 0., 1., 0.],\n",
       "       [0., 0., 0., 0., 1.]])"
      ]
     },
     "execution_count": 14,
     "metadata": {},
     "output_type": "execute_result"
    }
   ],
   "source": [
    "import numpy as np\n",
    "\n",
    "identity_matrix = np.eye(5) #Creating a 5x5 identity matrix\n",
    "\n",
    "identity_matrix"
   ]
  }
 ],
 "metadata": {
  "kernelspec": {
   "display_name": "Python 3 (ipykernel)",
   "language": "python",
   "name": "python3"
  },
  "language_info": {
   "codemirror_mode": {
    "name": "ipython",
    "version": 3
   },
   "file_extension": ".py",
   "mimetype": "text/x-python",
   "name": "python",
   "nbconvert_exporter": "python",
   "pygments_lexer": "ipython3",
   "version": "3.10.8"
  }
 },
 "nbformat": 4,
 "nbformat_minor": 5
}
